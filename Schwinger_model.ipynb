{
  "nbformat": 4,
  "nbformat_minor": 0,
  "metadata": {
    "colab": {
      "provenance": [],
      "authorship_tag": "ABX9TyNFu9KzYYerCoP0YJ7ZTgzP",
      "include_colab_link": true
    },
    "kernelspec": {
      "name": "python3",
      "display_name": "Python 3"
    },
    "language_info": {
      "name": "python"
    }
  },
  "cells": [
    {
      "cell_type": "markdown",
      "metadata": {
        "id": "view-in-github",
        "colab_type": "text"
      },
      "source": [
        "<a href=\"https://colab.research.google.com/github/dcugini/ML_course_Pavia_23/blob/main/Schwinger_model.ipynb\" target=\"_parent\"><img src=\"https://colab.research.google.com/assets/colab-badge.svg\" alt=\"Open In Colab\"/></a>"
      ]
    },
    {
      "cell_type": "markdown",
      "source": [
        "# SCHWINGER MODEL ON THE CHAIN\n",
        "The Schwinger model is a Quantum Field Theory an represents a Toy Model of the Standard Model.\n",
        "The study of this Model is of interest in the context of Quantum Siumlations,\n",
        "since it is 1-dimensional in the space coordinate.\n",
        "Indeed, after having discretized the space (via the Kougut-Susskind approach) ,we are left with a lattice were each can be eventually occupated by a fermion or an antifermion.\n",
        "In particular, even sites can be filled by fermions,\n",
        "odd sites by antifermions.\n",
        "On the other hand the link between two consecutive sites represents the Electric field between them.\n"
      ],
      "metadata": {
        "id": "1Aw59swAKzSt"
      }
    },
    {
      "cell_type": "code",
      "source": [
        "import numpy as np\n",
        "import random"
      ],
      "metadata": {
        "id": "VNuoEPwBK049"
      },
      "execution_count": 19,
      "outputs": []
    },
    {
      "cell_type": "code",
      "source": [
        "N = 3\n",
        "Delta = 1\n",
        "\n",
        "n_chains_train = 10\n",
        "n_chains_test = 0\n",
        "\n",
        "\n",
        "\n"
      ],
      "metadata": {
        "id": "CJ-1VHInMeHj"
      },
      "execution_count": 90,
      "outputs": []
    },
    {
      "cell_type": "code",
      "source": [
        "n_qubits = 2*N"
      ],
      "metadata": {
        "id": "VA_Ib7hUg0Bf"
      },
      "execution_count": 91,
      "outputs": []
    },
    {
      "cell_type": "markdown",
      "source": [
        "## Data generation"
      ],
      "metadata": {
        "id": "1rGscvdSK1Wr"
      }
    },
    {
      "cell_type": "code",
      "source": [
        "random.seed(121)\n",
        "\n",
        "x = []\n",
        "\n",
        "for i in range(0,n_chains_train + n_chains_test):\n",
        "  x.append(random.randrange(2**n_qubits))\n",
        "\n"
      ],
      "metadata": {
        "id": "Su4RQR6aLZV4"
      },
      "execution_count": 92,
      "outputs": []
    },
    {
      "cell_type": "code",
      "source": [
        "def f (x):\n",
        "  PBC = False\n",
        "  E = 0\n",
        "  min = 0\n",
        "  max = 0\n",
        "  for i in range(0, n_qubits):\n",
        "    E += ((-1)**i)*(x&(2**i))/(2**i)\n",
        "    if E < min:\n",
        "      min -= 1\n",
        "    if E > max:\n",
        "      max += 1\n",
        "\n",
        "  if E == 0:\n",
        "    PBC = True\n",
        "  return PBC, (max-min)\n",
        "\n",
        "def label (x):\n",
        "  y = f(x)\n",
        "  if (y[0] == True) and (y[1] <= Delta):\n",
        "    r = 1\n",
        "  else:\n",
        "    r = 0\n",
        "  return r\n",
        "\n"
      ],
      "metadata": {
        "id": "TmSp_zgIL5AE"
      },
      "execution_count": 97,
      "outputs": []
    },
    {
      "cell_type": "code",
      "source": [
        "for i in range(0,10):\n",
        "  print('{:0{}b}'.format(x[i], n_qubits),f(x[i]))"
      ],
      "metadata": {
        "colab": {
          "base_uri": "https://localhost:8080/"
        },
        "id": "IQdBEmUpYYJN",
        "outputId": "264f3350-74f9-47b2-f381-e3045c4c1cb2"
      },
      "execution_count": 98,
      "outputs": [
        {
          "output_type": "stream",
          "name": "stdout",
          "text": [
            "001011 (False, 2)\n",
            "011011 (True, 2)\n",
            "110010 (False, 1)\n",
            "010110 (False, 2)\n",
            "010110 (False, 2)\n",
            "101010 (False, 3)\n",
            "100100 (True, 1)\n",
            "010111 (False, 2)\n",
            "110110 (True, 2)\n",
            "000111 (False, 1)\n"
          ]
        }
      ]
    },
    {
      "cell_type": "code",
      "source": [
        "for i in range(0,10):\n",
        "  print('{:0{}b}'.format(x[i], n_qubits),label(x[i]))"
      ],
      "metadata": {
        "colab": {
          "base_uri": "https://localhost:8080/"
        },
        "id": "LElTRU4QYmD2",
        "outputId": "84a1c83c-ec16-4acd-e4c1-818b96910b9c"
      },
      "execution_count": 99,
      "outputs": [
        {
          "output_type": "stream",
          "name": "stdout",
          "text": [
            "001011 0\n",
            "011011 0\n",
            "110010 0\n",
            "010110 0\n",
            "010110 0\n",
            "101010 0\n",
            "100100 1\n",
            "010111 0\n",
            "110110 0\n",
            "000111 0\n"
          ]
        }
      ]
    },
    {
      "cell_type": "code",
      "source": [],
      "metadata": {
        "id": "MyNhWrMQnHUv"
      },
      "execution_count": null,
      "outputs": []
    }
  ]
}